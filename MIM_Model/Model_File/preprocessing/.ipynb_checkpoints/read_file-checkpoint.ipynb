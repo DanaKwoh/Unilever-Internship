{
 "cells": [
  {
   "cell_type": "code",
   "execution_count": 13,
   "metadata": {},
   "outputs": [],
   "source": [
    "import pandas as pd\n",
    "import sys\n",
    "\n",
    "\n",
    "# construct dataframe according to the file's path\n",
    "def read_file(data_path, constraint_path, media_path):\n",
    "    raw = pd.read.csv(data_path)\n",
    "    contraint = pd.read_csv(contraint_path)\n",
    "    media = pd.read_csv(media_path)\n",
    "    \n",
    "    response = raw.columns[1]     # <= Y's feature name\n",
    "    predict = list(raw.columns[2:])# <= X's feature names\n",
    "    data = raw[[response]+predict]\n",
    "    \n",
    "    x = data[predict]\n",
    "    y = data[response]\n",
    "    \n",
    "    return x, y, contraint, media.values()"
   ]
  },
  {
   "cell_type": "code",
   "execution_count": 16,
   "metadata": {},
   "outputs": [
    {
     "ename": "SyntaxError",
     "evalue": "invalid character in identifier (<ipython-input-16-8a288bd8b6e8>, line 3)",
     "output_type": "error",
     "traceback": [
      "\u001b[1;36m  File \u001b[1;32m\"<ipython-input-16-8a288bd8b6e8>\"\u001b[1;36m, line \u001b[1;32m3\u001b[0m\n\u001b[1;33m    if len（sys.argv）!=5:\u001b[0m\n\u001b[1;37m             ^\u001b[0m\n\u001b[1;31mSyntaxError\u001b[0m\u001b[1;31m:\u001b[0m invalid character in identifier\n"
     ]
    }
   ],
   "source": [
    "path = '../../Input/'\n",
    "\n",
    "if len（sys.argv）!=5:\n",
    "    print('Error on length ! Please read the README file.')\n",
    "    sys.exit()\n",
    "    \n",
    "data_path = f'{path}Input_Data/{sys.argv[1]}.csv'\n",
    "constraint_path = f'{path}Input_Config/{sys.argv[2]}.csv'\n",
    "media_path = f'{path}/Input_Config/{sys.argv[3]}.csv'\n",
    "\n",
    "x, y, contraint, media = read_file(data_path, constraint_path, media_path)\n",
    "\n"
   ]
  },
  {
   "cell_type": "markdown",
   "metadata": {},
   "source": [
    "# "
   ]
  }
 ],
 "metadata": {
  "kernelspec": {
   "display_name": "Python 3",
   "language": "python",
   "name": "python3"
  },
  "language_info": {
   "codemirror_mode": {
    "name": "ipython",
    "version": 3
   },
   "file_extension": ".py",
   "mimetype": "text/x-python",
   "name": "python",
   "nbconvert_exporter": "python",
   "pygments_lexer": "ipython3",
   "version": "3.8.5"
  }
 },
 "nbformat": 4,
 "nbformat_minor": 4
}
