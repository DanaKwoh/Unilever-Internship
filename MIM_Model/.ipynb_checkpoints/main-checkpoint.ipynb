{
 "cells": [
  {
   "cell_type": "code",
   "execution_count": 2,
   "metadata": {},
   "outputs": [
    {
     "name": "stdout",
     "output_type": "stream",
     "text": [
      "Error on input's length!! Please check the 'README' file.\n"
     ]
    },
    {
     "ename": "SystemExit",
     "evalue": "",
     "output_type": "error",
     "traceback": [
      "An exception has occurred, use %tb to see the full traceback.\n",
      "\u001b[1;31mSystemExit\u001b[0m\n"
     ]
    },
    {
     "name": "stderr",
     "output_type": "stream",
     "text": [
      "C:\\Users\\Joanna.Lee\\Anaconda3\\lib\\site-packages\\IPython\\core\\interactiveshell.py:3426: UserWarning: To exit: use 'exit', 'quit', or Ctrl-D.\n",
      "  warn(\"To exit: use 'exit', 'quit', or Ctrl-D.\", stacklevel=1)\n"
     ]
    }
   ],
   "source": [
    "from Model_File.preprocessing import read_file\n",
    "\n"
   ]
  },
  {
   "cell_type": "code",
   "execution_count": null,
   "metadata": {},
   "outputs": [],
   "source": [
    "# 模型R方\n",
    "    y_series = y.squeeze()\n",
    "    r_squared = 1-(((final_model.predict(X) - y_series)**2).sum()/((y_series-y_series.mean())**2).sum())\n",
    "    print(\">>>>>Model R-squared: \" + str(r_squared))\n",
    "    \n",
    "\n",
    "\n",
    "    # Actual VS. Pred Plot\n",
    "    plot_fittness(final_model, y, X, y_test, X_test)   \n",
    "\n",
    "\n",
    "    ## Response Curve and Elasticity of demand for each feature\n",
    "    # Load raw data for reference data\n",
    "    X_raw = X.copy()\n",
    "        \n",
    "    # Get the CR coefficient from the console input\n",
    "    CR = float(data_path.split(\"_\")[-1].split(\"-\")[0])\n",
    "\n",
    "    for feature in feature_list[1:]:\n",
    "        E = elasticity(feature, X, y, final_model)\n",
    "        coordinates = response_curve_one(feature, X_raw, y, final_model)\n",
    "        plot_RC(E, coordinates, X_raw[feature])\n",
    "    print('Saved all response curves !!!')\n",
    "        # ================================================================================ #\n",
    "    \n",
    "    \n",
    "            #=========================SHAP特征重要性=========================#\n",
    "    explainer = shap.TreeExplainer(final_model)\n",
    "    shap_values = explainer.shap_values(X)\n",
    "    \n",
    "    shap.summary_plot(shap_values, X, plot_type=\"bar\", show = False, plot_size = (20,10), max_display=30)\n",
    "    plt.savefig('Output_Plots/LGBM_Feature_Importance.jpg')\n",
    "    print('Saved \"LGBM_Feature_Importance.jpg\"')"
   ]
  }
 ],
 "metadata": {
  "kernelspec": {
   "display_name": "Python 3",
   "language": "python",
   "name": "python3"
  },
  "language_info": {
   "codemirror_mode": {
    "name": "ipython",
    "version": 3
   },
   "file_extension": ".py",
   "mimetype": "text/x-python",
   "name": "python",
   "nbconvert_exporter": "python",
   "pygments_lexer": "ipython3",
   "version": "3.8.5"
  }
 },
 "nbformat": 4,
 "nbformat_minor": 4
}
